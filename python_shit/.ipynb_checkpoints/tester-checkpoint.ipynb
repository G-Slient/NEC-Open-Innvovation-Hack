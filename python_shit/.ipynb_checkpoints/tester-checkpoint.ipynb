{
 "cells": [
  {
   "cell_type": "code",
   "execution_count": 14,
   "metadata": {},
   "outputs": [],
   "source": [
    "import pymongo\n",
    "import collections"
   ]
  },
  {
   "cell_type": "code",
   "execution_count": 15,
   "metadata": {},
   "outputs": [],
   "source": [
    "client = pymongo.MongoClient(\"mongodb://localhost:27017/\")"
   ]
  },
  {
   "cell_type": "code",
   "execution_count": 16,
   "metadata": {},
   "outputs": [
    {
     "data": {
      "text/plain": [
       "['admin', 'config', 'item_catalog', 'local']"
      ]
     },
     "execution_count": 16,
     "metadata": {},
     "output_type": "execute_result"
    }
   ],
   "source": [
    "client.list_database_names()"
   ]
  },
  {
   "cell_type": "code",
   "execution_count": 17,
   "metadata": {},
   "outputs": [],
   "source": [
    "db = client['item_catalog'] # stores"
   ]
  },
  {
   "cell_type": "code",
   "execution_count": 23,
   "metadata": {},
   "outputs": [],
   "source": [
    "# Stores Data\n",
    "ldict = {\n",
    "    \"store_1\": [\n",
    "        {\n",
    "        \"id\": \"S1_1001\",\n",
    "        \"item_id\": \"1001\",\n",
    "        \"name\": \"Maggi Instant Noodles\",\n",
    "        \"quantity\": \"200\",\n",
    "        \"price\": \"12\",\n",
    "        \"category\": \"Food\",\n",
    "        \"offer_id\": \"\",\n",
    "        \"qr_code\": \"1001\",\n",
    "    },\n",
    "    {\n",
    "        \"id\": \"S1_1002\",\n",
    "        \"item_id\": \"1002\",\n",
    "        \"name\": \"Dove Soap\",\n",
    "        \"quantity\": \"500\",\n",
    "        \"price\": \"50\",\n",
    "        \"category\": \"Cosmetics\",\n",
    "        \"offer_id\": \"\",\n",
    "        \"qr_code\": \"1002\",\n",
    "    },\n",
    "    {\n",
    "        \"id\": \"S1_1003\",\n",
    "        \"item_id\": \"1003\",\n",
    "        \"name\": \"Loreal Shampoo\",\n",
    "        \"quantity\": \"530\",\n",
    "        \"price\": \"199\",\n",
    "        \"category\": \"Cosmetics\",\n",
    "        \"offer_id\": \"\",\n",
    "        \"qr_code\": \"1003\",\n",
    "    },\n",
    "    {\n",
    "        \"id\": \"S1_1004\",\n",
    "        \"item_id\": \"1004\",\n",
    "        \"name\": \"Dettol Handwash\",\n",
    "        \"quantity\": \"25\",\n",
    "        \"price\": \"200\",\n",
    "        \"category\": \"Cosmetics\",\n",
    "        \"offer_id\": \"\",\n",
    "        \"qr_code\": \"1004\",\n",
    "    },\n",
    "    {\n",
    "        \"id\": \"S1_1005\",\n",
    "        \"item_id\": \"1005\",\n",
    "        \"name\": \"Haldirams Aloo Bhujia\",\n",
    "        \"quantity\": \"210\",\n",
    "        \"price\": \"165\",\n",
    "        \"category\": \"Food\",\n",
    "        \"offer_id\": \"\",\n",
    "        \"qr_code\": \"1005\",\n",
    "    },\n",
    "],\n",
    "    \"store_2\": [\n",
    "        {\n",
    "        \"id\": \"S2_1001\",\n",
    "        \"item_id\": \"1006\",\n",
    "        \"name\": \"Top Ramen Noodles\",\n",
    "        \"quantity\": \"250\",\n",
    "        \"price\": \"12.5\",\n",
    "        \"category\": \"Food\",\n",
    "        \"offer_id\": \"\",\n",
    "        \"qr_code\": \"1006\",\n",
    "    },\n",
    "    {\n",
    "        \"id\": \"S2_1002\",\n",
    "        \"item_id\": \"1007\",\n",
    "        \"name\": \"Head & Shoulders Shampoo\",\n",
    "        \"quantity\": \"510\",\n",
    "        \"price\": \"199\",\n",
    "        \"category\": \"Cosmetics\",\n",
    "        \"offer_id\": \"\",\n",
    "        \"qr_code\": \"1007\",\n",
    "    },\n",
    "    {\n",
    "        \"id\": \"S2_1003\",\n",
    "        \"item_id\": \"1008\",\n",
    "        \"name\": \"Nivea FRESH Active Deoderent\",\n",
    "        \"quantity\": \"790\",\n",
    "        \"price\": \"199\",\n",
    "        \"category\": \"Cosmetics\",\n",
    "        \"offer_id\": \"\",\n",
    "        \"qr_code\": \"1008\",\n",
    "    },\n",
    "    {\n",
    "        \"id\": \"S2_1004\",\n",
    "        \"item_id\": \"1009\",\n",
    "        \"name\": \"Nivea TALC\",\n",
    "        \"quantity\": \"250\",\n",
    "        \"price\": \"210\",\n",
    "        \"category\": \"Cosmetics\",\n",
    "        \"offer_id\": \"\",\n",
    "        \"qr_code\": \"1009\",\n",
    "    },\n",
    "    {\n",
    "        \"id\": \"S2_1005\",\n",
    "        \"item_id\": \"1010\",\n",
    "        \"name\": \"Haldirams Nut CRACKER\",\n",
    "        \"quantity\": \"160\",\n",
    "        \"price\": \"185\",\n",
    "        \"category\": \"Food\",\n",
    "        \"offer_id\": \"\",\n",
    "        \"qr_code\": \"1010\",\n",
    "    },\n",
    "],\n",
    "    \"store_3\": [\n",
    "        {\n",
    "        \"id\": \"S3_1001\",\n",
    "        \"item_id\": \"1002\",\n",
    "        \"name\": \"Dove Soap\",\n",
    "        \"quantity\": \"200\",\n",
    "        \"price\": \"50\",\n",
    "        \"category\": \"Cosmetics\",\n",
    "        \"offer_id\": \"\",\n",
    "        \"qr_code\": \"1002\",\n",
    "    },\n",
    "    {\n",
    "        \"id\": \"S3_1002\",\n",
    "        \"item_id\": \"1003\",\n",
    "        \"name\": \"Loreal Shampoo\",\n",
    "        \"quantity\": \"130\",\n",
    "        \"price\": \"199\",\n",
    "        \"category\": \"Cosmetics\",\n",
    "        \"offer_id\": \"\",\n",
    "        \"qr_code\": \"1003\",\n",
    "    },\n",
    "    {\n",
    "        \"id\": \"S1_1003\",\n",
    "        \"item_id\": \"1004\",\n",
    "        \"name\": \"Dettol Handwash\",\n",
    "        \"quantity\": \"125\",\n",
    "        \"price\": \"200\",\n",
    "        \"category\": \"Cosmetics\",\n",
    "        \"offer_id\": \"\",\n",
    "        \"qr_code\": \"1004\",\n",
    "    },\n",
    "    {\n",
    "        \"id\": \"S3_1004\",\n",
    "        \"item_id\": \"1009\",\n",
    "        \"name\": \"Nivea TALC\",\n",
    "        \"quantity\": \"50\",\n",
    "        \"price\": \"210\",\n",
    "        \"category\": \"Cosmetics\",\n",
    "        \"offer_id\": \"\",\n",
    "        \"qr_code\": \"1009\",\n",
    "    },\n",
    "    {\n",
    "        \"id\": \"S3_1005\",\n",
    "        \"item_id\": \"1010\",\n",
    "        \"name\": \"Haldirams Nut CRACKER\",\n",
    "        \"quantity\": \"260\",\n",
    "        \"price\": \"185\",\n",
    "        \"category\": \"Food\",\n",
    "        \"offer_id\": \"\",\n",
    "        \"qr_code\": \"1010\",\n",
    "    },\n",
    "],\n",
    "    \"store_4\": [\n",
    "        {\n",
    "        \"id\": \"S4_1001\",\n",
    "        \"item_id\": \"1002\",\n",
    "        \"name\": \"Dove Soap\",\n",
    "        \"quantity\": \"240\",\n",
    "        \"price\": \"50\",\n",
    "        \"category\": \"Cosmetics\",\n",
    "        \"offer_id\": \"\",\n",
    "        \"qr_code\": \"1002\",\n",
    "    },\n",
    "    {\n",
    "        \"id\": \"S4_1002\",\n",
    "        \"item_id\": \"1003\",\n",
    "        \"name\": \"Loreal Shampoo\",\n",
    "        \"quantity\": \"167\",\n",
    "        \"price\": \"199\",\n",
    "        \"category\": \"Cosmetics\",\n",
    "        \"offer_id\": \"\",\n",
    "        \"qr_code\": \"1003\",\n",
    "    },\n",
    "    {\n",
    "        \"id\": \"S4_1003\",\n",
    "        \"item_id\": \"1004\",\n",
    "        \"name\": \"Dettol Handwash\",\n",
    "        \"quantity\": \"140\",\n",
    "        \"price\": \"200\",\n",
    "        \"category\": \"Cosmetics\",\n",
    "        \"offer_id\": \"\",\n",
    "        \"qr_code\": \"1004\",\n",
    "    },\n",
    "    {\n",
    "        \"id\": \"S4_1004\",\n",
    "        \"item_id\": \"1009\",\n",
    "        \"name\": \"Nivea TALC\",\n",
    "        \"quantity\": \"100\",\n",
    "        \"price\": \"210\",\n",
    "        \"category\": \"Cosmetics\",\n",
    "        \"offer_id\": \"\",\n",
    "        \"qr_code\": \"1009\",\n",
    "    },\n",
    "    {\n",
    "        \"id\": \"S4_1005\",\n",
    "        \"item_id\": \"1010\",\n",
    "        \"name\": \"Haldirams Nut CRACKER\",\n",
    "        \"quantity\": \"60\",\n",
    "        \"price\": \"185\",\n",
    "        \"category\": \"Food\",\n",
    "        \"offer_id\": \"\",\n",
    "        \"qr_code\": \"1010\",\n",
    "    },\n",
    "],\n",
    "    \"store_5\": [\n",
    "        {\n",
    "        \"id\": \"S5_1001\",\n",
    "        \"item_id\": \"1001\",\n",
    "        \"name\": \"Maggi Instant Noodles\",\n",
    "        \"quantity\": \"120\",\n",
    "        \"price\": \"12\",\n",
    "        \"category\": \"Food\",\n",
    "        \"offer_id\": \"\",\n",
    "        \"qr_code\": \"1001\",\n",
    "    },\n",
    "    {\n",
    "        \"id\": \"S5_1002\",\n",
    "        \"item_id\": \"1010\",\n",
    "        \"name\": \"Haldirams Nut CRACKER\",\n",
    "        \"quantity\": \"160\",\n",
    "        \"price\": \"185\",\n",
    "        \"category\": \"Food\",\n",
    "        \"offer_id\": \"\",\n",
    "        \"qr_code\": \"1010\",\n",
    "    },\n",
    "    {\n",
    "        \"id\": \"S5_1003\",\n",
    "        \"item_id\": \"1004\",\n",
    "        \"name\": \"Dettol Handwash\",\n",
    "        \"quantity\": \"250\",\n",
    "        \"price\": \"200\",\n",
    "        \"category\": \"Cosmetics\",\n",
    "        \"offer_id\": \"\",\n",
    "        \"qr_code\": \"1004\",\n",
    "    },\n",
    "    {\n",
    "        \"id\": \"S5_1004\",\n",
    "        \"item_id\": \"1009\",\n",
    "        \"name\": \"Nivea TALC\",\n",
    "        \"quantity\": \"500\",\n",
    "        \"price\": \"210\",\n",
    "        \"category\": \"Cosmetics\",\n",
    "        \"offer_id\": \"\",\n",
    "        \"qr_code\": \"1009\",\n",
    "    },\n",
    "    {\n",
    "        \"id\": \"S5_1005\",\n",
    "        \"item_id\": \"1003\",\n",
    "        \"name\": \"Loreal Shampoo\",\n",
    "        \"quantity\": \"205\",\n",
    "        \"price\": \"199\",\n",
    "        \"category\": \"Cosmetics\",\n",
    "        \"offer_id\": \"\",\n",
    "        \"qr_code\": \"1003\",\n",
    "    },\n",
    "]\n",
    "}"
   ]
  },
  {
   "cell_type": "code",
   "execution_count": 24,
   "metadata": {},
   "outputs": [
    {
     "name": "stdout",
     "output_type": "stream",
     "text": [
      "Store ID : store_1\n",
      "Inserted IDS : <pymongo.results.InsertManyResult object at 0x7f1e6ce04f08>\n",
      "Store ID : store_2\n",
      "Inserted IDS : <pymongo.results.InsertManyResult object at 0x7f1e6cbfc4c8>\n",
      "Store ID : store_3\n",
      "Inserted IDS : <pymongo.results.InsertManyResult object at 0x7f1e6cbfc588>\n",
      "Store ID : store_4\n",
      "Inserted IDS : <pymongo.results.InsertManyResult object at 0x7f1e6cbfc408>\n",
      "Store ID : store_5\n",
      "Inserted IDS : <pymongo.results.InsertManyResult object at 0x7f1e6cbfc5c8>\n"
     ]
    }
   ],
   "source": [
    "for key, value in ldict.items():\n",
    "    col = db[key]\n",
    "    ids = col.insert_many(value)\n",
    "    print(\"Store ID : {}\\nInserted IDS : {}\".format(key, ids))"
   ]
  },
  {
   "cell_type": "code",
   "execution_count": 25,
   "metadata": {},
   "outputs": [
    {
     "name": "stdout",
     "output_type": "stream",
     "text": [
      "{'_id': ObjectId('5d8bd9080c4542f02bf5bff6'), 'id': 'S5_1001', 'item_id': '1001', 'name': 'Maggi Instant Noodles', 'quantity': '120', 'price': '12', 'category': 'Food', 'offer_id': '', 'qr_code': '1001'}\n",
      "{'_id': ObjectId('5d8bd9080c4542f02bf5bff7'), 'id': 'S5_1002', 'item_id': '1010', 'name': 'Haldirams Nut CRACKER', 'quantity': '160', 'price': '185', 'category': 'Food', 'offer_id': '', 'qr_code': '1010'}\n",
      "{'_id': ObjectId('5d8bd9080c4542f02bf5bff8'), 'id': 'S5_1003', 'item_id': '1004', 'name': 'Dettol Handwash', 'quantity': '250', 'price': '200', 'category': 'Cosmetics', 'offer_id': '', 'qr_code': '1004'}\n",
      "{'_id': ObjectId('5d8bd9080c4542f02bf5bff9'), 'id': 'S5_1004', 'item_id': '1009', 'name': 'Nivea TALC', 'quantity': '500', 'price': '210', 'category': 'Cosmetics', 'offer_id': '', 'qr_code': '1009'}\n",
      "{'_id': ObjectId('5d8bd9080c4542f02bf5bffa'), 'id': 'S5_1005', 'item_id': '1003', 'name': 'Loreal Shampoo', 'quantity': '205', 'price': '199', 'category': 'Cosmetics', 'offer_id': '', 'qr_code': '1003'}\n"
     ]
    }
   ],
   "source": [
    "for x in col.find():\n",
    "    print(x)"
   ]
  },
  {
   "cell_type": "code",
   "execution_count": null,
   "metadata": {},
   "outputs": [],
   "source": []
  },
  {
   "cell_type": "code",
   "execution_count": 28,
   "metadata": {},
   "outputs": [],
   "source": [
    "db = client['catolog_1'] # catolog of items\n",
    "# Items Data\n",
    "ldict = {\n",
    "    \"1001\": {\n",
    "        \"item_id\": \"1001\",\n",
    "        \"name\": \"Maggi Instant Noodles\",\n",
    "        \"mrp\": \"12\",\n",
    "        \"category\": \"\",\n",
    "        \"qr_code\": \"\",\n",
    "        \n",
    "    },\n",
    "    \"1002\": {\n",
    "        \"item_id\": \"1002\",\n",
    "        \"name\": \"Dove Soap\",\n",
    "        \"mrp\": \"50\",\n",
    "        \"category\": \"Cosmetics\",\n",
    "        \"qr_code\": \"1002\",\n",
    "        \n",
    "    },\n",
    "    \"1003\": {\n",
    "        \"item_id\": \"1003\",\n",
    "        \"name\": \"Loreal Shampoo\",\n",
    "        \"mrp\": \"199\",\n",
    "        \"category\": \"Cosmetics\",\n",
    "        \"qr_code\": \"1003\",\n",
    "        \n",
    "    },\n",
    "    \"1004\": {\n",
    "        \"item_id\": \"1004\",\n",
    "        \"name\": \"Dettol Handwash\",\n",
    "        \"mrp\": \"200\",\n",
    "        \"category\": \"Cosmetics\",\n",
    "        \"qr_code\": \"1004\",\n",
    "        \n",
    "    },\n",
    "    \"1005\": {\n",
    "        \"item_id\": \"1005\",\n",
    "        \"name\": \"Haldirams Aloo Bhujia\",\n",
    "        \"mrp\": \"165\",\n",
    "        \"category\": \"Food\",\n",
    "        \"qr_code\": \"1005\",\n",
    "        \n",
    "    },\n",
    "    \"1006\": {\n",
    "        \"item_id\": \"1006\",\n",
    "        \"name\": \"Top Ramen Noodles\",\n",
    "        \"mrp\": \"12.5\",\n",
    "        \"category\": \"Food\",\n",
    "        \"qr_code\": \"1006\",\n",
    "        \n",
    "    },\n",
    "    \"1007\": {\n",
    "        \"item_id\": \"1007\",\n",
    "        \"name\": \"Head & Shoulders Shampoo\",\n",
    "        \"mrp\": \"199\",\n",
    "        \"category\": \"Cosmetics\",\n",
    "        \"qr_code\": \"1007\",\n",
    "        \n",
    "    },\n",
    "    \"1008\": {\n",
    "        \"item_id\": \"1008\",\n",
    "        \"name\": \"Nivea FRESH Active Deoderant\",\n",
    "        \"mrp\": \"199\",\n",
    "        \"category\": \"Cosmetics\",\n",
    "        \"qr_code\": \"1008\",\n",
    "        \n",
    "    },\n",
    "    \"1009\": {\n",
    "        \"item_id\": \"1009\",\n",
    "        \"name\": \"Nivea TALC\",\n",
    "        \"mrp\": \"210\",\n",
    "        \"category\": \"Cosmetics\",\n",
    "        \"qr_code\": \"1009\",\n",
    "        \n",
    "    },\n",
    "    \"1010\": {\n",
    "        \"item_id\": \"1010\",\n",
    "        \"name\": \"Haldirams Nut CRACKER\",\n",
    "        \"mrp\": \"185\",\n",
    "        \"category\": \"Food\",\n",
    "        \"qr_code\": \"1010\",\n",
    "       \n",
    "    },\n",
    "}"
   ]
  },
  {
   "cell_type": "code",
   "execution_count": 30,
   "metadata": {},
   "outputs": [
    {
     "name": "stdout",
     "output_type": "stream",
     "text": [
      "Store ID : 1001\n",
      "Inserted IDS : <pymongo.results.InsertOneResult object at 0x7f1e6c059e48>\n",
      "Store ID : 1002\n",
      "Inserted IDS : <pymongo.results.InsertOneResult object at 0x7f1e534f2888>\n",
      "Store ID : 1003\n",
      "Inserted IDS : <pymongo.results.InsertOneResult object at 0x7f1e6ca7bd08>\n",
      "Store ID : 1004\n",
      "Inserted IDS : <pymongo.results.InsertOneResult object at 0x7f1e6cd55b88>\n",
      "Store ID : 1005\n",
      "Inserted IDS : <pymongo.results.InsertOneResult object at 0x7f1e6c059e48>\n",
      "Store ID : 1006\n",
      "Inserted IDS : <pymongo.results.InsertOneResult object at 0x7f1e534f2888>\n",
      "Store ID : 1007\n",
      "Inserted IDS : <pymongo.results.InsertOneResult object at 0x7f1e6cbea308>\n",
      "Store ID : 1008\n",
      "Inserted IDS : <pymongo.results.InsertOneResult object at 0x7f1e6cda7a08>\n",
      "Store ID : 1009\n",
      "Inserted IDS : <pymongo.results.InsertOneResult object at 0x7f1e6cda7d08>\n",
      "Store ID : 1010\n",
      "Inserted IDS : <pymongo.results.InsertOneResult object at 0x7f1e6ca7bd08>\n"
     ]
    }
   ],
   "source": [
    "for key, value in ldict.items():\n",
    "    col = db[key]\n",
    "    ids = col.insert_one(value)\n",
    "    print(\"Store ID : {}\\nInserted IDS : {}\".format(key, ids))"
   ]
  },
  {
   "cell_type": "code",
   "execution_count": null,
   "metadata": {},
   "outputs": [],
   "source": []
  },
  {
   "cell_type": "code",
   "execution_count": null,
   "metadata": {},
   "outputs": [],
   "source": []
  },
  {
   "cell_type": "code",
   "execution_count": 40,
   "metadata": {},
   "outputs": [
    {
     "name": "stdout",
     "output_type": "stream",
     "text": [
      "{'_id': ObjectId('5d8bd9080c4542f02bf5bff6'), 'name': 'Maggi Instant Noodles'}\n",
      "{'_id': ObjectId('5d8bd9080c4542f02bf5bff7'), 'name': 'Haldirams Nut CRACKER'}\n",
      "{'_id': ObjectId('5d8bd9080c4542f02bf5bff8'), 'name': 'Dettol Handwash'}\n",
      "{'_id': ObjectId('5d8bd9080c4542f02bf5bff9'), 'name': 'Nivea TALC'}\n",
      "{'_id': ObjectId('5d8bd9080c4542f02bf5bffa'), 'name': 'Loreal Shampoo'}\n"
     ]
    }
   ],
   "source": [
    "for i in col.find({}, {\"name\": 1}):\n",
    "    print(i)"
   ]
  },
  {
   "cell_type": "markdown",
   "metadata": {},
   "source": [
    "### Searching the items in STORE collections"
   ]
  },
  {
   "cell_type": "code",
   "execution_count": 22,
   "metadata": {},
   "outputs": [],
   "source": [
    "# items_needed_list = [\"1001\", \"1003\", \"1005\"]\n",
    "item_list = [\"Nescafe Coffee Powder\", \"Knorr Instant Tomato Soup\", \"Red Wine\"]#, \"Nivea TALC\"]"
   ]
  },
  {
   "cell_type": "code",
   "execution_count": 23,
   "metadata": {},
   "outputs": [
    {
     "data": {
      "text/plain": [
       "['store_1', 'store_3', 'assets', 'store_2', 'store_4', 'store_5']"
      ]
     },
     "execution_count": 23,
     "metadata": {},
     "output_type": "execute_result"
    }
   ],
   "source": [
    "db.list_collection_names()"
   ]
  },
  {
   "cell_type": "code",
   "execution_count": 24,
   "metadata": {},
   "outputs": [
    {
     "name": "stdout",
     "output_type": "stream",
     "text": [
      "['Nescafe Coffee Powder', 'Knorr Instant Tomato Soup', 'Red Wine']\n",
      "OrderedDict([('store_3', 2), ('store_1', 1), ('store_2', 1), ('store_4', 1), ('store_5', 1)])\n"
     ]
    },
    {
     "name": "stderr",
     "output_type": "stream",
     "text": [
      "/home/kranthi/anaconda3/lib/python3.7/site-packages/ipykernel_launcher.py:10: DeprecationWarning: count is deprecated. Use Collection.count_documents instead.\n",
      "  # Remove the CWD from sys.path while we load stuff.\n"
     ]
    }
   ],
   "source": [
    "db = client['item_catalog']\n",
    "print(item_list)\n",
    "ldict = {}\n",
    "for store in db.list_collection_names():\n",
    "    if \"store_\" in store:\n",
    "        col = db[store]\n",
    "        ldict[store] = 0  # [0, 0]\n",
    "\n",
    "        for item_name in item_list:\n",
    "            if col.find({\"name\": item_name.upper()}).count() >= 1:\n",
    "                ldict[store] += 1  # [0]\n",
    "sorted_ldict = sorted(ldict.items(), key=lambda kv: kv[1], reverse=True)\n",
    "sorted_ldict = collections.OrderedDict(sorted_ldict)\n",
    "print(sorted_ldict)"
   ]
  },
  {
   "cell_type": "code",
   "execution_count": 30,
   "metadata": {},
   "outputs": [
    {
     "data": {
      "text/plain": [
       "['store_3', 'store_1', 'store_2', 'store_4', 'store_5']"
      ]
     },
     "execution_count": 30,
     "metadata": {},
     "output_type": "execute_result"
    }
   ],
   "source": [
    "list(sorted_ldict.keys())"
   ]
  },
  {
   "cell_type": "code",
   "execution_count": 31,
   "metadata": {},
   "outputs": [
    {
     "data": {
      "text/plain": [
       "[2, 1, 1, 1, 1]"
      ]
     },
     "execution_count": 31,
     "metadata": {},
     "output_type": "execute_result"
    }
   ],
   "source": [
    "list(sorted_ldict.values())"
   ]
  },
  {
   "cell_type": "code",
   "execution_count": null,
   "metadata": {},
   "outputs": [],
   "source": []
  },
  {
   "cell_type": "code",
   "execution_count": null,
   "metadata": {},
   "outputs": [],
   "source": []
  },
  {
   "cell_type": "markdown",
   "metadata": {},
   "source": [
    "### Importing Data"
   ]
  },
  {
   "cell_type": "code",
   "execution_count": 4,
   "metadata": {},
   "outputs": [],
   "source": [
    "import pandas as pd"
   ]
  },
  {
   "cell_type": "code",
   "execution_count": 5,
   "metadata": {},
   "outputs": [
    {
     "data": {
      "text/html": [
       "<div>\n",
       "<style scoped>\n",
       "    .dataframe tbody tr th:only-of-type {\n",
       "        vertical-align: middle;\n",
       "    }\n",
       "\n",
       "    .dataframe tbody tr th {\n",
       "        vertical-align: top;\n",
       "    }\n",
       "\n",
       "    .dataframe thead th {\n",
       "        text-align: right;\n",
       "    }\n",
       "</style>\n",
       "<table border=\"1\" class=\"dataframe\">\n",
       "  <thead>\n",
       "    <tr style=\"text-align: right;\">\n",
       "      <th></th>\n",
       "      <th>item_identifier</th>\n",
       "      <th>item_category</th>\n",
       "      <th>item_name</th>\n",
       "      <th>quantity</th>\n",
       "      <th>weight</th>\n",
       "      <th>price</th>\n",
       "      <th>image_name</th>\n",
       "    </tr>\n",
       "  </thead>\n",
       "  <tbody>\n",
       "    <tr>\n",
       "      <th>0</th>\n",
       "      <td>FDA15</td>\n",
       "      <td>Foodgrains, Oil &amp; Masala</td>\n",
       "      <td>Almonds</td>\n",
       "      <td>5</td>\n",
       "      <td>500gm</td>\n",
       "      <td>148.0</td>\n",
       "      <td>10000518_7-bb-popular-almondbadam-californian-...</td>\n",
       "    </tr>\n",
       "    <tr>\n",
       "      <th>1</th>\n",
       "      <td>DRC01</td>\n",
       "      <td>Snacks</td>\n",
       "      <td>Mixed Vegetables</td>\n",
       "      <td>10</td>\n",
       "      <td>1kg</td>\n",
       "      <td>99.0</td>\n",
       "      <td>40132675_4-safal-frozen-mixed-vegetables.jpg</td>\n",
       "    </tr>\n",
       "    <tr>\n",
       "      <th>2</th>\n",
       "      <td>FDN15</td>\n",
       "      <td>Fruits &amp; vegetables</td>\n",
       "      <td>Grapes</td>\n",
       "      <td>22</td>\n",
       "      <td>500gm</td>\n",
       "      <td>39.0</td>\n",
       "      <td>20000707_12-fresho-grapes-bangalore-blue-with-...</td>\n",
       "    </tr>\n",
       "    <tr>\n",
       "      <th>3</th>\n",
       "      <td>FDX07</td>\n",
       "      <td>Foodgrains, Oil &amp; Masala</td>\n",
       "      <td>Atta Whole Wheat</td>\n",
       "      <td>14</td>\n",
       "      <td>5kg</td>\n",
       "      <td>275.0</td>\n",
       "      <td>284420_4-aashirvaad-atta-multigrains.jpg</td>\n",
       "    </tr>\n",
       "    <tr>\n",
       "      <th>4</th>\n",
       "      <td>NCD19</td>\n",
       "      <td>Beverages</td>\n",
       "      <td>Red Bull Energy Drink</td>\n",
       "      <td>35</td>\n",
       "      <td>250ml</td>\n",
       "      <td>99.0</td>\n",
       "      <td>100012278_9-red-bull-energy-drink.jpg</td>\n",
       "    </tr>\n",
       "  </tbody>\n",
       "</table>\n",
       "</div>"
      ],
      "text/plain": [
       "  item_identifier             item_category              item_name  quantity  \\\n",
       "0           FDA15  Foodgrains, Oil & Masala                Almonds         5   \n",
       "1           DRC01                    Snacks       Mixed Vegetables        10   \n",
       "2           FDN15       Fruits & vegetables                 Grapes        22   \n",
       "3           FDX07  Foodgrains, Oil & Masala      Atta Whole Wheat         14   \n",
       "4           NCD19                 Beverages  Red Bull Energy Drink        35   \n",
       "\n",
       "  weight  price                                         image_name  \n",
       "0  500gm  148.0  10000518_7-bb-popular-almondbadam-californian-...  \n",
       "1    1kg   99.0       40132675_4-safal-frozen-mixed-vegetables.jpg  \n",
       "2  500gm   39.0  20000707_12-fresho-grapes-bangalore-blue-with-...  \n",
       "3    5kg  275.0           284420_4-aashirvaad-atta-multigrains.jpg  \n",
       "4  250ml   99.0              100012278_9-red-bull-energy-drink.jpg  "
      ]
     },
     "execution_count": 5,
     "metadata": {},
     "output_type": "execute_result"
    }
   ],
   "source": [
    "data = pd.read_excel(\"Data-of-Items.xlsx\")\n",
    "data.head()"
   ]
  },
  {
   "cell_type": "code",
   "execution_count": 6,
   "metadata": {},
   "outputs": [
    {
     "data": {
      "text/plain": [
       "Snacks                      15\n",
       "Foodgrains, Oil & Masala     8\n",
       "Beauty & Hygiene             7\n",
       "Fruits & vegetables          4\n",
       "Beverages                    4\n",
       "Bakery, Cakes & Dairy        4\n",
       "Cleaning & Household         2\n",
       "Eggs, Meat & Fish            1\n",
       "Name: item_category, dtype: int64"
      ]
     },
     "execution_count": 6,
     "metadata": {},
     "output_type": "execute_result"
    }
   ],
   "source": [
    "data['item_category'].value_counts()"
   ]
  },
  {
   "cell_type": "code",
   "execution_count": 8,
   "metadata": {},
   "outputs": [
    {
     "data": {
      "text/plain": [
       "array(['Mixed Vegetables', 'Dabur Honey', 'Knorr Instant Tomato Soup',\n",
       "       'Cadbury Chocolate Bar', 'Cadbury Diary Milk',\n",
       "       'Kissan Fresh Tomato Ketchup', 'Black Olive oil ',\n",
       "       'Maggi Masala Noodles', 'Lays Potato Chips ', 'Kelloggs Chocos',\n",
       "       'Cadbury Oreo Biscuit', 'Hakka Noodles',\n",
       "       'Maggi Cuppa Masala Noodles', 'Parle-G', 'Treat -Jim Jam Biscuits'],\n",
       "      dtype=object)"
      ]
     },
     "execution_count": 8,
     "metadata": {},
     "output_type": "execute_result"
    }
   ],
   "source": [
    "data['item_name'][data['item_category'] == 'Snacks'].unique()"
   ]
  },
  {
   "cell_type": "code",
   "execution_count": 70,
   "metadata": {},
   "outputs": [
    {
     "data": {
      "text/plain": [
       "'[\"Red Bull Energy Drink\", \"Lipton Green Tea Bags\", \"Red Wine\", \"Nescafe Coffee Powder\"]'"
      ]
     },
     "execution_count": 70,
     "metadata": {},
     "output_type": "execute_result"
    }
   ],
   "source": [
    "\"['Red Bull Energy Drink', 'Lipton Green Tea Bags', 'Red Wine', 'Nescafe Coffee Powder']\".replace(\"'\", '\"')"
   ]
  },
  {
   "cell_type": "code",
   "execution_count": 60,
   "metadata": {},
   "outputs": [
    {
     "name": "stderr",
     "output_type": "stream",
     "text": [
      "/home/kranthi/anaconda3/lib/python3.7/site-packages/ipykernel_launcher.py:1: SettingWithCopyWarning: \n",
      "A value is trying to be set on a copy of a slice from a DataFrame\n",
      "\n",
      "See the caveats in the documentation: http://pandas.pydata.org/pandas-docs/stable/indexing.html#indexing-view-versus-copy\n",
      "  \"\"\"Entry point for launching an IPython kernel.\n"
     ]
    }
   ],
   "source": [
    "data['item_name'][data['item_name'] == 'Cadbury Diary Milk\\xa0'] = \"Cadbury Diary Milk\"\n",
    "data.to_excel(\"Data-of-Items.xlsx\", index=False)"
   ]
  },
  {
   "cell_type": "code",
   "execution_count": null,
   "metadata": {},
   "outputs": [],
   "source": []
  },
  {
   "cell_type": "code",
   "execution_count": null,
   "metadata": {},
   "outputs": [],
   "source": []
  },
  {
   "cell_type": "code",
   "execution_count": null,
   "metadata": {},
   "outputs": [],
   "source": []
  },
  {
   "cell_type": "code",
   "execution_count": 71,
   "metadata": {},
   "outputs": [
    {
     "data": {
      "text/html": [
       "<div>\n",
       "<style scoped>\n",
       "    .dataframe tbody tr th:only-of-type {\n",
       "        vertical-align: middle;\n",
       "    }\n",
       "\n",
       "    .dataframe tbody tr th {\n",
       "        vertical-align: top;\n",
       "    }\n",
       "\n",
       "    .dataframe thead th {\n",
       "        text-align: right;\n",
       "    }\n",
       "</style>\n",
       "<table border=\"1\" class=\"dataframe\">\n",
       "  <thead>\n",
       "    <tr style=\"text-align: right;\">\n",
       "      <th></th>\n",
       "      <th>item_identifier</th>\n",
       "      <th>item_category</th>\n",
       "      <th>item_name</th>\n",
       "      <th>quantity</th>\n",
       "      <th>weight</th>\n",
       "      <th>price</th>\n",
       "      <th>image_name</th>\n",
       "    </tr>\n",
       "  </thead>\n",
       "  <tbody>\n",
       "    <tr>\n",
       "      <th>0</th>\n",
       "      <td>FDA15</td>\n",
       "      <td>Foodgrains, Oil &amp; Masala</td>\n",
       "      <td>Almonds</td>\n",
       "      <td>5</td>\n",
       "      <td>500gm</td>\n",
       "      <td>148.0</td>\n",
       "      <td>10000518_7-bb-popular-almondbadam-californian-...</td>\n",
       "    </tr>\n",
       "    <tr>\n",
       "      <th>1</th>\n",
       "      <td>DRC01</td>\n",
       "      <td>Snacks</td>\n",
       "      <td>Mixed Vegetables</td>\n",
       "      <td>10</td>\n",
       "      <td>1kg</td>\n",
       "      <td>99.0</td>\n",
       "      <td>40132675_4-safal-frozen-mixed-vegetables.jpg</td>\n",
       "    </tr>\n",
       "    <tr>\n",
       "      <th>2</th>\n",
       "      <td>FDN15</td>\n",
       "      <td>Fruits &amp; vegetables</td>\n",
       "      <td>Grapes</td>\n",
       "      <td>22</td>\n",
       "      <td>500gm</td>\n",
       "      <td>39.0</td>\n",
       "      <td>20000707_12-fresho-grapes-bangalore-blue-with-...</td>\n",
       "    </tr>\n",
       "    <tr>\n",
       "      <th>3</th>\n",
       "      <td>FDX07</td>\n",
       "      <td>Foodgrains, Oil &amp; Masala</td>\n",
       "      <td>Atta Whole Wheat</td>\n",
       "      <td>14</td>\n",
       "      <td>5kg</td>\n",
       "      <td>275.0</td>\n",
       "      <td>284420_4-aashirvaad-atta-multigrains.jpg</td>\n",
       "    </tr>\n",
       "    <tr>\n",
       "      <th>4</th>\n",
       "      <td>NCD19</td>\n",
       "      <td>Beverages</td>\n",
       "      <td>Red Bull Energy Drink</td>\n",
       "      <td>35</td>\n",
       "      <td>250ml</td>\n",
       "      <td>99.0</td>\n",
       "      <td>100012278_9-red-bull-energy-drink.jpg</td>\n",
       "    </tr>\n",
       "  </tbody>\n",
       "</table>\n",
       "</div>"
      ],
      "text/plain": [
       "  item_identifier             item_category              item_name  quantity  \\\n",
       "0           FDA15  Foodgrains, Oil & Masala                Almonds         5   \n",
       "1           DRC01                    Snacks       Mixed Vegetables        10   \n",
       "2           FDN15       Fruits & vegetables                 Grapes        22   \n",
       "3           FDX07  Foodgrains, Oil & Masala      Atta Whole Wheat         14   \n",
       "4           NCD19                 Beverages  Red Bull Energy Drink        35   \n",
       "\n",
       "  weight  price                                         image_name  \n",
       "0  500gm  148.0  10000518_7-bb-popular-almondbadam-californian-...  \n",
       "1    1kg   99.0       40132675_4-safal-frozen-mixed-vegetables.jpg  \n",
       "2  500gm   39.0  20000707_12-fresho-grapes-bangalore-blue-with-...  \n",
       "3    5kg  275.0           284420_4-aashirvaad-atta-multigrains.jpg  \n",
       "4  250ml   99.0              100012278_9-red-bull-energy-drink.jpg  "
      ]
     },
     "execution_count": 71,
     "metadata": {},
     "output_type": "execute_result"
    }
   ],
   "source": [
    "data.head()"
   ]
  },
  {
   "cell_type": "code",
   "execution_count": 9,
   "metadata": {
    "scrolled": true
   },
   "outputs": [
    {
     "name": "stdout",
     "output_type": "stream",
     "text": [
      "Store ID : FDA15\n",
      "Inserted IDS : <pymongo.results.InsertOneResult object at 0x7f6ff32a5e48>\n",
      "Store ID : DRC01\n",
      "Inserted IDS : <pymongo.results.InsertOneResult object at 0x7f6ff32ab188>\n",
      "Store ID : FDN15\n",
      "Inserted IDS : <pymongo.results.InsertOneResult object at 0x7f6ff32a8e48>\n",
      "Store ID : FDX07\n",
      "Inserted IDS : <pymongo.results.InsertOneResult object at 0x7f6ff32a5848>\n",
      "Store ID : NCD19\n",
      "Inserted IDS : <pymongo.results.InsertOneResult object at 0x7f6ff32a5e48>\n",
      "Store ID : FDP36\n",
      "Inserted IDS : <pymongo.results.InsertOneResult object at 0x7f6ff32ab188>\n",
      "Store ID : FDO10\n",
      "Inserted IDS : <pymongo.results.InsertOneResult object at 0x7f6ff32f9d48>\n",
      "Store ID : FDP10\n",
      "Inserted IDS : <pymongo.results.InsertOneResult object at 0x7f6ff32afc88>\n",
      "Store ID : FDH17\n",
      "Inserted IDS : <pymongo.results.InsertOneResult object at 0x7f6ff32ab188>\n",
      "Store ID : FDU28\n",
      "Inserted IDS : <pymongo.results.InsertOneResult object at 0x7f6ff32affc8>\n",
      "Store ID : FDY07\n",
      "Inserted IDS : <pymongo.results.InsertOneResult object at 0x7f6ff32f9408>\n",
      "Store ID : FDA03\n",
      "Inserted IDS : <pymongo.results.InsertOneResult object at 0x7f6ff32a5f08>\n",
      "Store ID : FDX32\n",
      "Inserted IDS : <pymongo.results.InsertOneResult object at 0x7f6ff32ab188>\n",
      "Store ID : FDS46\n",
      "Inserted IDS : <pymongo.results.InsertOneResult object at 0x7f6ff32affc8>\n",
      "Store ID : FDF32\n",
      "Inserted IDS : <pymongo.results.InsertOneResult object at 0x7f6ff3d4b588>\n",
      "Store ID : FDP49\n",
      "Inserted IDS : <pymongo.results.InsertOneResult object at 0x7f6ff32a5f08>\n",
      "Store ID : NCB42\n",
      "Inserted IDS : <pymongo.results.InsertOneResult object at 0x7f6ff32ab188>\n",
      "Store ID : FDP49\n",
      "Inserted IDS : <pymongo.results.InsertOneResult object at 0x7f6ff32affc8>\n",
      "Store ID : DRI11\n",
      "Inserted IDS : <pymongo.results.InsertOneResult object at 0x7f6ff3d4b588>\n",
      "Store ID : FDU02\n",
      "Inserted IDS : <pymongo.results.InsertOneResult object at 0x7f6ff3451048>\n",
      "Store ID : FDN22\n",
      "Inserted IDS : <pymongo.results.InsertOneResult object at 0x7f6ff32ab188>\n",
      "Store ID : FDW12\n",
      "Inserted IDS : <pymongo.results.InsertOneResult object at 0x7f6ff336b408>\n",
      "Store ID : NCB30\n",
      "Inserted IDS : <pymongo.results.InsertOneResult object at 0x7f6ff3d4b588>\n",
      "Store ID : FDC37\n",
      "Inserted IDS : <pymongo.results.InsertOneResult object at 0x7f6ff3451048>\n",
      "Store ID : FDR28\n",
      "Inserted IDS : <pymongo.results.InsertOneResult object at 0x7f6ff32ab188>\n",
      "Store ID : NCD06\n",
      "Inserted IDS : <pymongo.results.InsertOneResult object at 0x7f6ff336b408>\n",
      "Store ID : FDV10\n",
      "Inserted IDS : <pymongo.results.InsertOneResult object at 0x7f6ff3d4b588>\n",
      "Store ID : DRJ59\n",
      "Inserted IDS : <pymongo.results.InsertOneResult object at 0x7f6ff3451048>\n",
      "Store ID : FDE51\n",
      "Inserted IDS : <pymongo.results.InsertOneResult object at 0x7f6ff32ab188>\n",
      "Store ID : FDC14\n",
      "Inserted IDS : <pymongo.results.InsertOneResult object at 0x7f6ff336b408>\n",
      "Store ID : FDV38\n",
      "Inserted IDS : <pymongo.results.InsertOneResult object at 0x7f6ff3d4b588>\n",
      "Store ID : NCS17\n",
      "Inserted IDS : <pymongo.results.InsertOneResult object at 0x7f6ff3451048>\n",
      "Store ID : FDP33\n",
      "Inserted IDS : <pymongo.results.InsertOneResult object at 0x7f6ff32ab188>\n",
      "Store ID : FDO23\n",
      "Inserted IDS : <pymongo.results.InsertOneResult object at 0x7f6ff336b408>\n",
      "Store ID : DRH01\n",
      "Inserted IDS : <pymongo.results.InsertOneResult object at 0x7f6ff3d4b588>\n",
      "Store ID : NCX29\n",
      "Inserted IDS : <pymongo.results.InsertOneResult object at 0x7f6ff3451048>\n",
      "Store ID : FDV20\n",
      "Inserted IDS : <pymongo.results.InsertOneResult object at 0x7f702469cc08>\n",
      "Store ID : DRZ11\n",
      "Inserted IDS : <pymongo.results.InsertOneResult object at 0x7f6ff336b408>\n",
      "Store ID : FDX10\n",
      "Inserted IDS : <pymongo.results.InsertOneResult object at 0x7f6ff3d4b588>\n",
      "Store ID : FDB34\n",
      "Inserted IDS : <pymongo.results.InsertOneResult object at 0x7f6ff3451048>\n",
      "Store ID : FDU02\n",
      "Inserted IDS : <pymongo.results.InsertOneResult object at 0x7f702469cc08>\n",
      "Store ID : FDK43\n",
      "Inserted IDS : <pymongo.results.InsertOneResult object at 0x7f6ff336b408>\n",
      "Store ID : FDA46\n",
      "Inserted IDS : <pymongo.results.InsertOneResult object at 0x7f6ff3d4b588>\n",
      "Store ID : FDC02\n",
      "Inserted IDS : <pymongo.results.InsertOneResult object at 0x7f6ff3451048>\n",
      "Store ID : FDL50\n",
      "Inserted IDS : <pymongo.results.InsertOneResult object at 0x7f702469cc08>\n"
     ]
    }
   ],
   "source": [
    "db = client['catolog_3'] # catolog of items\n",
    "col = db['items']\n",
    "for index, row in data.iterrows():\n",
    "#     col = db[row['item_identifier']]\n",
    "    value = {\n",
    "        row['item_identifier']: {\n",
    "            \"item_id\": row['item_identifier'],\n",
    "            \"name\": row['item_name'],\n",
    "            \"mrp\": row['price'],\n",
    "            \"category\": row['item_category'],\n",
    "            \"qr_code\": \"\",\n",
    "        }\n",
    "    }\n",
    "    ids = col.insert_one(value)\n",
    "    print(\"Store ID : {}\\nInserted IDS : {}\".format(row['item_identifier'], ids))"
   ]
  },
  {
   "cell_type": "code",
   "execution_count": 81,
   "metadata": {},
   "outputs": [
    {
     "data": {
      "text/plain": [
       "{'_id': ObjectId('5d8e7197a1d740b286ac771b'),\n",
       " 'NCX29': {'item_id': 'NCX29',\n",
       "  'name': 'Dettol Handwash ',\n",
       "  'mrp': 255.0,\n",
       "  'category': 'Beauty & Hygiene',\n",
       "  'qr_code': ''}}"
      ]
     },
     "execution_count": 81,
     "metadata": {},
     "output_type": "execute_result"
    }
   ],
   "source": [
    "col = db['NCX29']\n",
    "col.find_one()"
   ]
  },
  {
   "cell_type": "code",
   "execution_count": 92,
   "metadata": {},
   "outputs": [
    {
     "name": "stdout",
     "output_type": "stream",
     "text": [
      "Store ID : store_1\n",
      "Inserted IDS : <pymongo.results.InsertManyResult object at 0x7f6a21a05108>\n",
      "Store ID : store_2\n",
      "Inserted IDS : <pymongo.results.InsertManyResult object at 0x7f6a22ebfc08>\n",
      "Store ID : store_3\n",
      "Inserted IDS : <pymongo.results.InsertManyResult object at 0x7f6a21501688>\n",
      "Store ID : store_4\n",
      "Inserted IDS : <pymongo.results.InsertManyResult object at 0x7f6a22ebfc08>\n",
      "Store ID : store_5\n",
      "Inserted IDS : <pymongo.results.InsertManyResult object at 0x7f6a21911a48>\n"
     ]
    }
   ],
   "source": [
    "db = client['sample_2'] # stores\n",
    "# Stores Data\n",
    "# ldict = {\n",
    "#     \"store_1\": [\n",
    "#         {\n",
    "#         \"id\": row,\n",
    "#         \"item_id\": \"1001\",\n",
    "#         \"name\": \"Maggi Instant Noodles\",\n",
    "#         \"quantity\": \"200\",\n",
    "#         \"price\": \"12\",\n",
    "#         \"category\": \"Food\",\n",
    "#         \"offer_id\": \"\",\n",
    "#         \"qr_code\": \"1001\",\n",
    "#     }\n",
    "# ]\n",
    "# }\n",
    "# for key, value in ldict.items():\n",
    "#     col = db[key]\n",
    "#     ids = col.insert_many(value)\n",
    "#     print(\"Store ID : {}\\nInserted IDS : {}\".format(key, ids))\n",
    "    \n",
    "for key in ['store_1', 'store_2', 'store_3', 'store_4', 'store_5']:\n",
    "    col = db[key]\n",
    "    \n",
    "    value = []\n",
    "    for item_name in random.sample(data['item_name'].unique().tolist(), 20):\n",
    "        ldict = {}\n",
    "        ldict['id'] = data['item_identifier'][data['item_name'] == item_name].values[0]\n",
    "        ldict['item_id'] = data['item_identifier'][data['item_name'] == item_name].values[0]\n",
    "        ldict['name'] = item_name\n",
    "        ldict['quantity'] = random.randint(100, 500)\n",
    "        ldict['price'] = data['price'][data['item_name'] == item_name].values[0]\n",
    "        ldict['category'] = data['item_category'][data['item_name'] == item_name].values[0]\n",
    "        ldict['offer_id'] = \"\"\n",
    "        ldict['qr_code'] = \"\"\n",
    "        value.append(ldict)\n",
    "    ids = col.insert_many(value)\n",
    "    print(\"Store ID : {}\\nInserted IDS : {}\".format(key, ids))"
   ]
  },
  {
   "cell_type": "code",
   "execution_count": 82,
   "metadata": {},
   "outputs": [],
   "source": [
    "import random"
   ]
  },
  {
   "cell_type": "code",
   "execution_count": 94,
   "metadata": {},
   "outputs": [
    {
     "data": {
      "text/plain": [
       "{'_id': ObjectId('5d8e75aaa1d740b286ac7789'),\n",
       " 'id': 'FDA46',\n",
       " 'item_id': 'FDA46',\n",
       " 'name': 'Chana Dal',\n",
       " 'quantity': 279,\n",
       " 'price': 77.0,\n",
       " 'category': 'Foodgrains, Oil & Masala',\n",
       " 'offer_id': '',\n",
       " 'qr_code': ''}"
      ]
     },
     "execution_count": 94,
     "metadata": {},
     "output_type": "execute_result"
    }
   ],
   "source": [
    "col.find_one()"
   ]
  },
  {
   "cell_type": "code",
   "execution_count": null,
   "metadata": {},
   "outputs": [],
   "source": []
  },
  {
   "cell_type": "code",
   "execution_count": null,
   "metadata": {},
   "outputs": [],
   "source": []
  },
  {
   "cell_type": "code",
   "execution_count": null,
   "metadata": {},
   "outputs": [],
   "source": []
  },
  {
   "cell_type": "code",
   "execution_count": null,
   "metadata": {},
   "outputs": [],
   "source": []
  }
 ],
 "metadata": {
  "kernelspec": {
   "display_name": "Python 3",
   "language": "python",
   "name": "python3"
  },
  "language_info": {
   "codemirror_mode": {
    "name": "ipython",
    "version": 3
   },
   "file_extension": ".py",
   "mimetype": "text/x-python",
   "name": "python",
   "nbconvert_exporter": "python",
   "pygments_lexer": "ipython3",
   "version": "3.7.3"
  }
 },
 "nbformat": 4,
 "nbformat_minor": 2
}
